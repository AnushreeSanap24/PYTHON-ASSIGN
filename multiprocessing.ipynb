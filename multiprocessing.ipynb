{
 "cells": [
  {
   "cell_type": "markdown",
   "id": "acc9ac66-ca0d-4eb1-835a-e2c58b7c3698",
   "metadata": {},
   "source": [
    "q1.\n",
    "Multithreading is defined as the ability of a processor to execute multiple threads concurrently. \n",
    "The module used to handle threads in python is \"threading\" module\n",
    "Threading in python is used to run multiple threads (tasks, function calls) at the same time. Note that this does not mean that they are executed on different CPUs. Python threads will NOT make your program faster if it already uses 100 % CPU time. In that case, you probably want to look into parallel programming.\n",
    "\n",
    "\n",
    "\n",
    "q2.\n",
    "Python \"threading\" module allows you to have different parts of your program run concurrently and can simplify your design.  \n",
    "1. active_count() - Returns the number of thread objects that are active.(activeCount is deprecated latest function is active_count).\n",
    "2. current_thread() - it returns the current Thread object active at the moment.(currentThread is deprecated latest function is current_thread)\n",
    "3. enumerate() - Returns a list of all thread objects that are currently active.\n",
    "\n",
    "\n",
    "q3.\n",
    "1. run() - The standard run() method invokes the callable object passed to the object’s constructor as the target argument, if any, with positional and keyword arguments taken from the args and kwargs arguments, respectively.\n",
    "2. start() - Start the thread’s activity. It must be called at most once per thread object. It arranges for the object’s run() method to be invoked in a separate thread of control.This method will raise a RuntimeError if called more than once on the same thread object.\n",
    "3. join() - Wait until the thread terminates. This blocks the calling thread until the thread whose join() method is called terminates – either normally or through an unhandled exception – or until the optional timeout occurs.\n",
    "4. is_alive() - (isAlive is deprecated latest function - is_alive) Return whether the thread is alive. This method returns True just before the run() method starts until just after the run() method terminates.\n",
    "\n",
    "\n",
    "\n",
    "\n",
    "q4."
   ]
  },
  {
   "cell_type": "code",
   "execution_count": 1,
   "id": "115388e0-eafe-447d-ad46-4c14c3f26732",
   "metadata": {},
   "outputs": [],
   "source": [
    "import threading"
   ]
  },
  {
   "cell_type": "code",
   "execution_count": 24,
   "id": "9be7b193-3ebf-438d-a3f9-1d2a00fff92c",
   "metadata": {},
   "outputs": [],
   "source": [
    "def list_square(n):\n",
    "    print(\"sqaure of the nummber is {}\".format(n**2))\n",
    "    \n",
    "    "
   ]
  },
  {
   "cell_type": "code",
   "execution_count": 25,
   "id": "45a9552e-c433-4dbc-a21b-e52d87b7ac71",
   "metadata": {},
   "outputs": [
    {
     "name": "stdout",
     "output_type": "stream",
     "text": [
      "sqaure of the nummber is 25\n"
     ]
    }
   ],
   "source": [
    "list_square(5)"
   ]
  },
  {
   "cell_type": "code",
   "execution_count": 31,
   "id": "998c23ab-786d-46cb-8427-f95834bf0312",
   "metadata": {},
   "outputs": [],
   "source": [
    "thread1=[threading.Thread(target=list_square,args=(n,)) for n in range(10)]"
   ]
  },
  {
   "cell_type": "code",
   "execution_count": 32,
   "id": "5fbcd98a-7b01-48af-aadd-c531b73c53f3",
   "metadata": {},
   "outputs": [
    {
     "data": {
      "text/plain": [
       "range(0, 10)"
      ]
     },
     "execution_count": 32,
     "metadata": {},
     "output_type": "execute_result"
    }
   ],
   "source": [
    "range(10)"
   ]
  },
  {
   "cell_type": "code",
   "execution_count": 33,
   "id": "10860aa6-a8a2-4a57-a94b-94a1face376d",
   "metadata": {},
   "outputs": [
    {
     "data": {
      "text/plain": [
       "[<Thread(Thread-35 (list_square), initial)>,\n",
       " <Thread(Thread-36 (list_square), initial)>,\n",
       " <Thread(Thread-37 (list_square), initial)>,\n",
       " <Thread(Thread-38 (list_square), initial)>,\n",
       " <Thread(Thread-39 (list_square), initial)>,\n",
       " <Thread(Thread-40 (list_square), initial)>,\n",
       " <Thread(Thread-41 (list_square), initial)>,\n",
       " <Thread(Thread-42 (list_square), initial)>,\n",
       " <Thread(Thread-43 (list_square), initial)>,\n",
       " <Thread(Thread-44 (list_square), initial)>]"
      ]
     },
     "execution_count": 33,
     "metadata": {},
     "output_type": "execute_result"
    }
   ],
   "source": [
    "thread1"
   ]
  },
  {
   "cell_type": "code",
   "execution_count": 34,
   "id": "22e6fc0b-42df-4d47-9da4-2172cc032c64",
   "metadata": {},
   "outputs": [
    {
     "name": "stdout",
     "output_type": "stream",
     "text": [
      "sqaure of the nummber is 0\n",
      "sqaure of the nummber is 1\n",
      "sqaure of the nummber is 4\n",
      "sqaure of the nummber is 9\n",
      "sqaure of the nummber is 16\n",
      "sqaure of the nummber is 25\n",
      "sqaure of the nummber is 36\n",
      "sqaure of the nummber is 49\n",
      "sqaure of the nummber is 64\n",
      "sqaure of the nummber is 81\n"
     ]
    }
   ],
   "source": [
    "for t in thread1:\n",
    "    t.start()"
   ]
  },
  {
   "cell_type": "code",
   "execution_count": 41,
   "id": "4eb9528d-503e-45ff-852d-ce8f39a488ef",
   "metadata": {},
   "outputs": [],
   "source": [
    "import threading\n",
    "def list_cube(i):\n",
    "    print(\"cube of number is {}\".format(i**3))"
   ]
  },
  {
   "cell_type": "code",
   "execution_count": 45,
   "id": "9fcbdfb5-247e-422a-93ca-088a27992bd2",
   "metadata": {},
   "outputs": [],
   "source": [
    "thread2=[threading.Thread(target=list_cube,args=(i,)) for i in range(10)]\n"
   ]
  },
  {
   "cell_type": "code",
   "execution_count": 46,
   "id": "36708329-5e41-442e-a823-d427d079fca0",
   "metadata": {},
   "outputs": [
    {
     "name": "stdout",
     "output_type": "stream",
     "text": [
      "cube of number is 0\n",
      "cube of number is 1\n",
      "cube of number is 8\n",
      "cube of number is 27\n",
      "cube of number is 64\n",
      "cube of number is 125\n",
      "cube of number is 216\n",
      "cube of number is 343\n",
      "cube of number is 512\n",
      "cube of number is 729\n"
     ]
    }
   ],
   "source": [
    "for k in thread2:\n",
    "    k.start()"
   ]
  },
  {
   "cell_type": "code",
   "execution_count": 49,
   "id": "57ff5850-8dc6-475d-87ba-8eb8ef4d82e2",
   "metadata": {},
   "outputs": [],
   "source": [
    "import threading\n"
   ]
  },
  {
   "cell_type": "code",
   "execution_count": 51,
   "id": "65423653-5255-4a76-ae52-68f040313a6d",
   "metadata": {},
   "outputs": [],
   "source": [
    "def square(n):\n",
    "    print(\"square : {}\".format(n**2))\n",
    "    \n",
    "    \n",
    "def cube(k):\n",
    "    print(\"cube :{}\".format(n**3))"
   ]
  },
  {
   "cell_type": "code",
   "execution_count": 56,
   "id": "c12259e1-ae37-4fb0-a99c-9c66eb7736cd",
   "metadata": {},
   "outputs": [],
   "source": [
    "t1=[threading.Thread(target=square,args=(n,)) for n in range(10)]"
   ]
  },
  {
   "cell_type": "code",
   "execution_count": 57,
   "id": "cc894b9f-782d-4030-8205-5c58bedc9b46",
   "metadata": {},
   "outputs": [],
   "source": [
    "t2=[threading.Thread(target=cube,args=(k,)) for k in range(10)]"
   ]
  },
  {
   "cell_type": "code",
   "execution_count": 58,
   "id": "b2adb663-7f4c-4191-91ce-5c04af3ade0d",
   "metadata": {},
   "outputs": [
    {
     "ename": "AttributeError",
     "evalue": "'list' object has no attribute 'start'",
     "output_type": "error",
     "traceback": [
      "\u001b[0;31m---------------------------------------------------------------------------\u001b[0m",
      "\u001b[0;31mAttributeError\u001b[0m                            Traceback (most recent call last)",
      "Cell \u001b[0;32mIn[58], line 1\u001b[0m\n\u001b[0;32m----> 1\u001b[0m \u001b[43mt1\u001b[49m\u001b[38;5;241;43m.\u001b[39;49m\u001b[43mstart\u001b[49m()\n\u001b[1;32m      2\u001b[0m t2\u001b[38;5;241m.\u001b[39mstart()\n",
      "\u001b[0;31mAttributeError\u001b[0m: 'list' object has no attribute 'start'"
     ]
    }
   ],
   "source": [
    "t1.start()\n",
    "t2.start()"
   ]
  },
  {
   "cell_type": "markdown",
   "id": "31e49181-2996-46d9-ae63-a84da923a123",
   "metadata": {},
   "source": [
    "q5.\n",
    "Advantages:\n",
    "\n",
    "It doesn’t block the user. This is because threads are independent of each other.\n",
    "Better use of system resources is possible since threads execute tasks parallely.\n",
    "Enhanced performance on multi-processor machines.\n",
    "Multi-threaded servers and interactive GUIs use multithreading exclusively.\n",
    "Disadvantages:\n",
    "\n",
    "As number of threads increase, complexity increases.\n",
    "Synchronization of shared resources (objects, data) is necessary.\n",
    "It is difficult to debug, result is sometimes unpredictable.\n",
    "Potential deadlocks which leads to starvation, i.e. some threads may not be served with a bad design\n",
    "Constructing and synchronizing threads is CPU/memory intensive."
   ]
  },
  {
   "cell_type": "markdown",
   "id": "3d3a216a-15b5-4928-ae62-314e55142a58",
   "metadata": {},
   "source": [
    "q6.\n",
    "A race condition occurs when two or more threads can access shared data and they try to change it at the same time. As a result, the values of variables may be unpredictable and vary depending on the timings of context switches of the processes.\n",
    "Deadlocks : A deadlock is a situation where two or more threads are blocked, waiting for each other to release a resource. In other words, each thread is holding a resource that the other thread needs to proceed, but neither thread can release its resource until it acquires the resource it is waiting for. This results in a situation where both threads are stuck, waiting indefinitely for the other thread to release the resource. Deadlocks can cause a program to hang or crash and are notoriously difficult to debug.\n",
    "Race Condition : A race condition occurs when two or more threads access a shared resource simultaneously, and the final outcome depends on the order in which the threads are executed. In other words, the execution of the program depends on the timing of the threads, and if the order of execution is not controlled, it can result in unpredictable behavior. For example, if two threads try to update the same variable simultaneously, the final value of the variable will depend on which thread executed first. This can result in incorrect program behavior, such as data corruption or inconsistency."
   ]
  },
  {
   "cell_type": "code",
   "execution_count": null,
   "id": "7680d3aa-73ed-4dba-88b9-8b12297af303",
   "metadata": {},
   "outputs": [],
   "source": []
  }
 ],
 "metadata": {
  "kernelspec": {
   "display_name": "Python 3 (ipykernel)",
   "language": "python",
   "name": "python3"
  },
  "language_info": {
   "codemirror_mode": {
    "name": "ipython",
    "version": 3
   },
   "file_extension": ".py",
   "mimetype": "text/x-python",
   "name": "python",
   "nbconvert_exporter": "python",
   "pygments_lexer": "ipython3",
   "version": "3.10.8"
  }
 },
 "nbformat": 4,
 "nbformat_minor": 5
}
