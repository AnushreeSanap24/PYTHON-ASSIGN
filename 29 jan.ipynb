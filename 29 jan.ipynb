{
 "cells": [
  {
   "cell_type": "markdown",
   "id": "7454215b-3e53-4ef5-9e34-9d604b3fa3cc",
   "metadata": {},
   "source": [
    "1.GUIDO VAN ROSSUM\n",
    "\n",
    "\n",
    "2.OOP AND STRUCTURE PROOGRAMMING\n",
    "\n",
    "\n",
    "3.YES IT IS CASE SENSITIVE.\n",
    "\n",
    "\n",
    "4.pyc files. .pyc\n",
    "\n",
    "\n",
    "5.interpreted\n",
    "\n",
    "\n",
    "\n",
    "6.a module, a function body, and a class definition.\n",
    "\n",
    "\n",
    "\n",
    "7.by adding a single # character before any statement or line of code\n",
    "\n",
    "\n",
    "8.sys.version\n",
    "\n",
    "\n",
    "9.LAMBDA\n",
    "\n",
    "\n",
    "10.\n",
    "\n",
    "\n",
    "11.print(), abs(), round(), min(), max(), sorted(), sum(), and len().\n",
    "\n",
    "\n",
    "12.79 characters\n",
    "\n",
    "\n",
    "13.High-level programming languages like Python are easier to understand, automate tasks such as memory management and other low-level computer processes, and generally have a lot of abstraction from the computer system.\n",
    "\n",
    "\n",
    "14.High-level programming languages like Python are easier to understand, automate tasks such as memory management and other low-level computer processes, and generally have a lot of abstraction from the computer system.\n",
    "\n",
    "\n",
    "15."
   ]
  }
 ],
 "metadata": {
  "kernelspec": {
   "display_name": "Python 3 (ipykernel)",
   "language": "python",
   "name": "python3"
  },
  "language_info": {
   "codemirror_mode": {
    "name": "ipython",
    "version": 3
   },
   "file_extension": ".py",
   "mimetype": "text/x-python",
   "name": "python",
   "nbconvert_exporter": "python",
   "pygments_lexer": "ipython3",
   "version": "3.10.8"
  }
 },
 "nbformat": 4,
 "nbformat_minor": 5
}
