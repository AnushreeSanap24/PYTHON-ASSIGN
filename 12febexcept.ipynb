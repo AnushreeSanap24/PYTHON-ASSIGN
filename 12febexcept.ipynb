{
 "cells": [
  {
   "cell_type": "markdown",
   "id": "f15aa71e-2c27-4cbc-ac5f-b182c042ef01",
   "metadata": {},
   "source": [
    "QUESTION1:\n",
    "\n",
    "An exception in Python is an incident that happens while executing a program that causes the regular course of the program's commands to be disrupted. When a Python code comes across a condition it can't handle, it raises an exception. An object in Python that describes an error is called an exception.\n",
    "DIFFERENCE:\n",
    "Exceptions are raised when the program is syntactically correct, but the code results in an error. This error does not stop the execution of the program, however, it changes the normal flow of the program.\n",
    "Syntax Error: As the name suggests this error is caused by the wrong syntax in the code. It leads to the termination of the program. \n",
    "\n",
    "\n",
    "QUESTION 2:\n",
    "If the exception is not handled by an except clause, the exception is re-raised after the finally clause has been executed.\n",
    "\n",
    "QUE3:\n",
    "The try and except block in Python is used to catch and handle exceptions. Python executes code following the try statement as a “normal” part of the program. The code that follows the except statement is the program's response to any exceptions in the preceding try clause.\n",
    "\n",
    "QUE4:\n",
    "Try: This block will test the excepted error to occur\n",
    "Except:  Here you can handle the error\n",
    "Else: If there is no exception then this block will be executed\n",
    "Finally: Finally block always gets executed either exception is generated or not\n",
    "raise Keyword is used to raise exceptions or errors. The raise keyword raises an error and stops the control flow of the program. It is used to bring up the current exception in an exception handler so that it can be handled further up the call stack.\n",
    "\n",
    "que5:\n",
    "In Python, we can define custom exceptions by creating a new class that is derived from the built-in Exception class. Custom exceptions provide you the flexibility to add attributes and methods that are not part of a standard Python exception.\n",
    "\n",
    "que6:;\n"
   ]
  },
  {
   "cell_type": "code",
   "execution_count": 1,
   "id": "08143a4d-a7e9-44ce-a9e3-fd9c4314f39c",
   "metadata": {},
   "outputs": [
    {
     "name": "stdin",
     "output_type": "stream",
     "text": [
      "enter your age 5\n"
     ]
    }
   ],
   "source": [
    "age=int(input(\"enter your age\"))"
   ]
  },
  {
   "cell_type": "code",
   "execution_count": 2,
   "id": "eca3aca9-46f8-450f-b891-72e699b7a0ee",
   "metadata": {},
   "outputs": [],
   "source": [
    "class validateage(Exception):\n",
    "    \n",
    "    def __init__(self,mssg):\n",
    "        self.msg=msg"
   ]
  },
  {
   "cell_type": "code",
   "execution_count": 3,
   "id": "189515c5-085f-433b-ad83-846b2728979a",
   "metadata": {},
   "outputs": [],
   "source": [
    "def validateage(age):\n",
    "    if age <0:\n",
    "        raise validateage(\"entered age is negaive\")\n",
    "    elif age>200:\n",
    "        raise validateage(\"entered age is very very high\")\n",
    "    else:\n",
    "        print(\"age is valid\")"
   ]
  },
  {
   "cell_type": "code",
   "execution_count": 6,
   "id": "9b876f29-cc72-481b-8945-b97d22f90499",
   "metadata": {},
   "outputs": [
    {
     "name": "stdin",
     "output_type": "stream",
     "text": [
      "enter your age -55\n"
     ]
    },
    {
     "ename": "TypeError",
     "evalue": "catching classes that do not inherit from BaseException is not allowed",
     "output_type": "error",
     "traceback": [
      "\u001b[0;31m---------------------------------------------------------------------------\u001b[0m",
      "\u001b[0;31mTypeError\u001b[0m                                 Traceback (most recent call last)",
      "Cell \u001b[0;32mIn[6], line 3\u001b[0m\n\u001b[1;32m      2\u001b[0m     age\u001b[38;5;241m=\u001b[39m\u001b[38;5;28mint\u001b[39m(\u001b[38;5;28minput\u001b[39m(\u001b[38;5;124m\"\u001b[39m\u001b[38;5;124menter your age\u001b[39m\u001b[38;5;124m\"\u001b[39m))\n\u001b[0;32m----> 3\u001b[0m     \u001b[43mvalidateage\u001b[49m\u001b[43m(\u001b[49m\u001b[43mage\u001b[49m\u001b[43m)\u001b[49m\n\u001b[1;32m      4\u001b[0m \u001b[38;5;28;01mexcept\u001b[39;00m validateage \u001b[38;5;28;01mas\u001b[39;00m e:\n",
      "Cell \u001b[0;32mIn[3], line 3\u001b[0m, in \u001b[0;36mvalidateage\u001b[0;34m(age)\u001b[0m\n\u001b[1;32m      2\u001b[0m \u001b[38;5;28;01mif\u001b[39;00m age \u001b[38;5;241m<\u001b[39m\u001b[38;5;241m0\u001b[39m:\n\u001b[0;32m----> 3\u001b[0m     \u001b[38;5;28;01mraise\u001b[39;00m \u001b[43mvalidateage\u001b[49m\u001b[43m(\u001b[49m\u001b[38;5;124;43m\"\u001b[39;49m\u001b[38;5;124;43mentered age is negaive\u001b[39;49m\u001b[38;5;124;43m\"\u001b[39;49m\u001b[43m)\u001b[49m\n\u001b[1;32m      4\u001b[0m \u001b[38;5;28;01melif\u001b[39;00m age\u001b[38;5;241m>\u001b[39m\u001b[38;5;241m200\u001b[39m:\n",
      "Cell \u001b[0;32mIn[3], line 2\u001b[0m, in \u001b[0;36mvalidateage\u001b[0;34m(age)\u001b[0m\n\u001b[1;32m      1\u001b[0m \u001b[38;5;28;01mdef\u001b[39;00m \u001b[38;5;21mvalidateage\u001b[39m(age):\n\u001b[0;32m----> 2\u001b[0m     \u001b[38;5;28;01mif\u001b[39;00m \u001b[43mage\u001b[49m\u001b[43m \u001b[49m\u001b[38;5;241;43m<\u001b[39;49m\u001b[38;5;241;43m0\u001b[39;49m:\n\u001b[1;32m      3\u001b[0m         \u001b[38;5;28;01mraise\u001b[39;00m validateage(\u001b[38;5;124m\"\u001b[39m\u001b[38;5;124mentered age is negaive\u001b[39m\u001b[38;5;124m\"\u001b[39m)\n",
      "\u001b[0;31mTypeError\u001b[0m: '<' not supported between instances of 'str' and 'int'",
      "\nDuring handling of the above exception, another exception occurred:\n",
      "\u001b[0;31mTypeError\u001b[0m                                 Traceback (most recent call last)",
      "Cell \u001b[0;32mIn[6], line 4\u001b[0m\n\u001b[1;32m      2\u001b[0m     age\u001b[38;5;241m=\u001b[39m\u001b[38;5;28mint\u001b[39m(\u001b[38;5;28minput\u001b[39m(\u001b[38;5;124m\"\u001b[39m\u001b[38;5;124menter your age\u001b[39m\u001b[38;5;124m\"\u001b[39m))\n\u001b[1;32m      3\u001b[0m     validateage(age)\n\u001b[0;32m----> 4\u001b[0m \u001b[38;5;28;01mexcept\u001b[39;00m validateage \u001b[38;5;28;01mas\u001b[39;00m e:\n\u001b[1;32m      5\u001b[0m     \u001b[38;5;28mprint\u001b[39m (e)\n",
      "\u001b[0;31mTypeError\u001b[0m: catching classes that do not inherit from BaseException is not allowed"
     ]
    }
   ],
   "source": [
    "try:\n",
    "    age=int(input(\"enter your age\"))\n",
    "    validateage(age)\n",
    "except validateage as e:\n",
    "    print (e)"
   ]
  },
  {
   "cell_type": "code",
   "execution_count": null,
   "id": "a4a0113e-f314-4753-afd6-16806892de8c",
   "metadata": {},
   "outputs": [],
   "source": []
  }
 ],
 "metadata": {
  "kernelspec": {
   "display_name": "Python 3 (ipykernel)",
   "language": "python",
   "name": "python3"
  },
  "language_info": {
   "codemirror_mode": {
    "name": "ipython",
    "version": 3
   },
   "file_extension": ".py",
   "mimetype": "text/x-python",
   "name": "python",
   "nbconvert_exporter": "python",
   "pygments_lexer": "ipython3",
   "version": "3.10.8"
  }
 },
 "nbformat": 4,
 "nbformat_minor": 5
}
