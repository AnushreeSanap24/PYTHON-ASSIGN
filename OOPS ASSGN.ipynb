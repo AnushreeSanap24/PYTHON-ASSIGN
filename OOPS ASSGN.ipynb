{
 "cells": [
  {
   "cell_type": "markdown",
   "id": "083781dc-d04c-4109-8b24-b58602e582a1",
   "metadata": {},
   "source": [
    "ANSWER 1="
   ]
  },
  {
   "cell_type": "markdown",
   "id": "5d72d18d-41c2-44e9-8411-b1a7bbc2c9bb",
   "metadata": {},
   "source": []
  },
  {
   "cell_type": "markdown",
   "id": "bace8035-c55c-441e-8561-7dc84ebd0342",
   "metadata": {},
   "source": [
    "CLASSES ARE THE USER DEFINND DATA TYPES TAT ACT AS THE BLUEPRINT FOR THE INDIVIDUAL OBJECTS,ATTRIBUTES AND METHODS.\n",
    "FOR EXAMPLE, MOBILE PHONE HAS ATTTRIBUTES LIKE A BRAND NAME ,RAM,AND FUNCTIOINS LIKE TEXTNG AND ALLING.THUS A MOBIILE PHONE IS  CLASSS OF VARIOUS PHONE.\n",
    "WHEREAS\n",
    "OBJECT ARE THE INSTANCES OF A CLASS CREATED WTTH SPECIALLY DEFINED DATA.\n",
    "FOR EXAMPLE, SAMSUNG GALAXY IS AN OBJECT WITH THE BRAND NAME SAMSUUNG,2GB RAM AS A PROPERTIES."
   ]
  },
  {
   "cell_type": "markdown",
   "id": "bae69a0c-8b42-4d13-83e3-08cc13b50fd6",
   "metadata": {},
   "source": [
    "ANSWER 2="
   ]
  },
  {
   "cell_type": "markdown",
   "id": "367172c9-2a34-46d2-a58f-50ea5d9e6910",
   "metadata": {},
   "source": [
    "THE FOUR PILLARS OF OOPS ARE ENCAPSULATION ,ABSTRACTION,POLMORPHISM,INHERITANCE."
   ]
  },
  {
   "cell_type": "markdown",
   "id": "fc76a472-6f87-44b8-a933-ea02322c80d7",
   "metadata": {},
   "source": [
    "ANSWER 3=\n",
    "\n",
    "THE __init__ METHOD LETS THE CLASS INITIAIZE THE OBJECTS ATTRIBUTES AND SERVERS NO OTHER PURPOSE.\n",
    "FOR EX:\n",
    "\n",
    "\n",
    "class dog:\n",
    "     \n",
    "     def __init__(self,breed)\n",
    "     self.breed= breed"
   ]
  },
  {
   "cell_type": "markdown",
   "id": "6929f474-f0d9-4039-8e9f-b5bf5df12ab6",
   "metadata": {},
   "source": [
    "ANSWWER 4=\n",
    "THE SELF VARIABLE S USED TO REPRESENT THE INSTANCES OS THE CLASS WHICH OFTEN USED N OOPPS."
   ]
  },
  {
   "cell_type": "markdown",
   "id": "16b58d1a-7f7e-42b2-9012-e84d1567cf0a",
   "metadata": {},
   "source": [
    "ANSWER 5=\n",
    "Inheritance is a method through which one class inherits the properties from its parent class. Inheritance is a feature in which one new class is derived from the existing ones.\n",
    "1.Single inheritance\n",
    "In this inheritance, a derived class is created from a single base class.\n",
    "\n",
    "In the given example, Class A is the parent class and Class B is the child class since Class B inherits the features and behavior of the parent class A.\n",
    "\n",
    "2.Multi-level inheritance\n",
    "In this inheritance, a derived class is created from another derived class.\n",
    "\n",
    "In the given example, class c inherits the properties and behavior of class B and class B inherits the properties and behavior of class B. So, here A is the parent class of B and class B is the parent class of C. So, here class C implicitly inherits the properties and behavior of class A along with Class B i.e there is a multilevel of inheritance.\n",
    "\n",
    "3.Multiple inheritance\n",
    "In this inheritance, a derived class is created from more than one base class. This inheritance is not supported by .NET Languages like C#, F#, etc., and Java Language.\n",
    "\n",
    "In the given example, class c inherits the properties and behavior of class B and class A at the same level. So, here A and Class B both are the parent classes for Class C.\n",
    "\n",
    "4.Multipath inheritance\n",
    "In this inheritance, a derived class is created from other derived classes and the same base class of other derived classes. This inheritance is not supported by .NET Languages like C#, F#, etc.\n",
    "\n",
    "In the given example, class D inherits the properties and behavior of class C and class B as well as Class A. Both class C and class B inherit the Class A. So, Class A is the parent for Class B and Class C as well as Class D. So it's making it a Multipath inheritance.\n",
    "\n",
    "5.Hierarchical Inheritance\n",
    "In this inheritance, more than one derived class is created from a single base class and further child classes act as parent classes for more than one child class.\n",
    "\n",
    "In the given example, class A has two children class B and class D. Further, class B and class C both are having two children - class D and E; class F and G respectively.\n",
    "\n",
    "6.Hybrid inheritance\n",
    "This is a combination of more than one inheritance. Hence, it may be a combination of Multilevel and Multiple inheritance or Hierarchical and Multilevel inheritance Hierarchical and Multipath inheritance, or Hierarchical, Multilevel and Multiple inheritances.\n",
    "\n",
    "Since .NET Languages like C#, F#, etc. do not support multiple and multipath inheritance. Hence hybrid inheritance with a combination of multiple or multipath inheritances is not supported by .NET Languages."
   ]
  },
  {
   "cell_type": "code",
   "execution_count": null,
   "id": "8bea76da-d00f-48f2-89fd-9bb77556ef8a",
   "metadata": {},
   "outputs": [],
   "source": []
  }
 ],
 "metadata": {
  "kernelspec": {
   "display_name": "Python 3 (ipykernel)",
   "language": "python",
   "name": "python3"
  },
  "language_info": {
   "codemirror_mode": {
    "name": "ipython",
    "version": 3
   },
   "file_extension": ".py",
   "mimetype": "text/x-python",
   "name": "python",
   "nbconvert_exporter": "python",
   "pygments_lexer": "ipython3",
   "version": "3.10.8"
  }
 },
 "nbformat": 4,
 "nbformat_minor": 5
}
