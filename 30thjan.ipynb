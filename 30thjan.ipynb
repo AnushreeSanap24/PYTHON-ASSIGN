{
 "cells": [
  {
   "cell_type": "markdown",
   "id": "256ba0fe-302d-4611-9d6c-9107449ea194",
   "metadata": {},
   "source": [
    "question 1"
   ]
  },
  {
   "cell_type": "code",
   "execution_count": 12,
   "id": "eed167d3-0d4c-402e-97f1-5f48be2ff5a2",
   "metadata": {},
   "outputs": [
    {
     "name": "stdin",
     "output_type": "stream",
     "text": [
      "enter your score 90\n"
     ]
    },
    {
     "name": "stdout",
     "output_type": "stream",
     "text": [
      "Grade=B\n"
     ]
    }
   ],
   "source": [
    "percentage=int(input(\"enter your score\"))\n",
    "if percentage>90:\n",
    "    print(\"Grade=A\")\n",
    "elif percentage>80 and percentage<= 90 :\n",
    "    print(\"Grade=B\")\n",
    "elif percentage >=60 and percentage<= 80 :\n",
    "    print(\"Grade=C\")\n",
    "else:\n",
    "    print(\"Grade=D\")\n",
    "    "
   ]
  },
  {
   "cell_type": "markdown",
   "id": "b62d6620-e9ef-4536-a3c8-5433bbdcadca",
   "metadata": {},
   "source": [
    "question 2:\n"
   ]
  },
  {
   "cell_type": "code",
   "execution_count": 15,
   "id": "c4910430-adf4-46eb-a65e-f9ecb3731382",
   "metadata": {},
   "outputs": [
    {
     "name": "stdin",
     "output_type": "stream",
     "text": [
      "enter thr cost price of bike 500000\n"
     ]
    },
    {
     "name": "stdout",
     "output_type": "stream",
     "text": [
      "tax to be pais is 15%\n"
     ]
    }
   ],
   "source": [
    "cost=int(input(\"enter thr cost price of bike\"))\n",
    "         \n",
    "if cost >100000:\n",
    "         print(\"tax to be pais is 15%\")\n",
    "elif cost>50000 and cost<=100000:\n",
    "         print(\"tax to be paid is 10%\")\n",
    "else:\n",
    "      print(\"tax to be paid is 5%\")   "
   ]
  },
  {
   "cell_type": "markdown",
   "id": "5d0a6111-2642-448a-90d9-93c742f8d0b5",
   "metadata": {},
   "source": [
    "question 3:\n"
   ]
  },
  {
   "cell_type": "code",
   "execution_count": 21,
   "id": "0d40691e-b665-4bec-b6b7-c1131fedccdd",
   "metadata": {},
   "outputs": [
    {
     "name": "stdin",
     "output_type": "stream",
     "text": [
      "enter your city name Jaipur\n"
     ]
    },
    {
     "name": "stdout",
     "output_type": "stream",
     "text": [
      "Monnument of your city is JAL MAHAL\n"
     ]
    }
   ],
   "source": [
    "c=input(\"enter your city name\")\n",
    "if c==\"Delhi\":\n",
    "    print(\"Monument of your city is RED FORT\")\n",
    "elif c==\"Agra\":\n",
    "    print(\"Monument of your city is TAJ MAHAL\")\n",
    "elif c==\"Jaipur\":\n",
    "    print(\"Monnument of your city is JAL MAHAL\")\n",
    "else:\n",
    "    print(\"no data found\")\n",
    "    "
   ]
  },
  {
   "cell_type": "markdown",
   "id": "a5305b33-540e-4f7a-8692-1273a06703c9",
   "metadata": {},
   "source": [
    "question 4:\n"
   ]
  },
  {
   "cell_type": "code",
   "execution_count": 27,
   "id": "828c313d-915a-4752-b22f-ee61c9cb8010",
   "metadata": {},
   "outputs": [
    {
     "name": "stdin",
     "output_type": "stream",
     "text": [
      "enter thr number 20\n"
     ]
    },
    {
     "name": "stdout",
     "output_type": "stream",
     "text": [
      "total req count 1\n"
     ]
    }
   ],
   "source": [
    "number=int(input(\"enter thr number\"))\n",
    "count=0\n",
    "while number> 10:\n",
    "    number=number/3\n",
    "    count=count+1\n",
    "print('total req count',count)    "
   ]
  },
  {
   "cell_type": "markdown",
   "id": "d874bbdd-072e-4f84-b023-1e17305b91c8",
   "metadata": {},
   "source": [
    "question 5:\n"
   ]
  },
  {
   "cell_type": "markdown",
   "id": "bba91f42-4991-4669-a7e4-74e9ef62b252",
   "metadata": {},
   "source": [
    "In python While Loop is used to execute a block of statements repeatedly until a given condition is satisfied. And when the condition becomes false, the line immediately after the loop in the program is executed.When the iteratio is not fixed we use while loop."
   ]
  },
  {
   "cell_type": "code",
   "execution_count": null,
   "id": "e8178cf0-6b92-445d-b2a4-358a83572810",
   "metadata": {},
   "outputs": [],
   "source": []
  }
 ],
 "metadata": {
  "kernelspec": {
   "display_name": "Python 3 (ipykernel)",
   "language": "python",
   "name": "python3"
  },
  "language_info": {
   "codemirror_mode": {
    "name": "ipython",
    "version": 3
   },
   "file_extension": ".py",
   "mimetype": "text/x-python",
   "name": "python",
   "nbconvert_exporter": "python",
   "pygments_lexer": "ipython3",
   "version": "3.10.8"
  }
 },
 "nbformat": 4,
 "nbformat_minor": 5
}
