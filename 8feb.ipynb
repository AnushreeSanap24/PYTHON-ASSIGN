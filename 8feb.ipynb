{
 "cells": [
  {
   "cell_type": "markdown",
   "id": "32f84465-ef4c-4e97-8656-67514b78066f",
   "metadata": {},
   "source": [
    "ANSWER 1:\n",
    "Abstraction in python is defined as a process of handling complexity by hiding unnecessary information from the user.\n",
    "For example: When we use the TV remote to increase the volume. We don't know how pressing a key increases the volume of the TV. We only know to press the \"+\" button to increase the volume. That is exactly the abstraction that works in the object-oriented concept.\n",
    "\n",
    "\n",
    "\n",
    "\n",
    "\n",
    "\n",
    "ANSWER 2:\n",
    " Abstraction is hiding the details and implementation of the code. Encapsulation is hiding the data and controlling the visibility of the code.\n",
    " \n",
    " \n",
    " \n",
    " \n",
    " ANSWER 3:\n",
    "The 'abc' module in Python library provides the infrastructure for defining custom abstract base classes. 'abc' works by marking methods of the base class as abstract. This is done by @absttractmethod decorator.\n",
    "\n",
    "\n",
    "ANSWER 4:\n",
    "In Python, abstraction can be achieved by having/using abstract classes and methods in our programs. Understanding Abstract Methods and Classes: An abstract method is a method that is declared, but does not contain implementation.\n",
    "\n",
    "\n",
    "\n",
    "ANSWER 5:\n",
    "We cannot create an abstract class in Python directly. However, Python does provide a module that allows us to define abstract classes. The module we can use to create an abstract class in Python is abc(abstract base class) module\n"
   ]
  }
 ],
 "metadata": {
  "kernelspec": {
   "display_name": "Python 3 (ipykernel)",
   "language": "python",
   "name": "python3"
  },
  "language_info": {
   "codemirror_mode": {
    "name": "ipython",
    "version": 3
   },
   "file_extension": ".py",
   "mimetype": "text/x-python",
   "name": "python",
   "nbconvert_exporter": "python",
   "pygments_lexer": "ipython3",
   "version": "3.10.8"
  }
 },
 "nbformat": 4,
 "nbformat_minor": 5
}
