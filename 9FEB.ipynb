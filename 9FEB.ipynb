{
 "cells": [
  {
   "cell_type": "markdown",
   "id": "b506592c-2ff7-40b5-8523-42a4fdbe3b31",
   "metadata": {},
   "source": [
    "ANSWER 1=\n"
   ]
  },
  {
   "cell_type": "code",
   "execution_count": 2,
   "id": "fc58514d-eff7-4a92-abb4-8b8232058bc1",
   "metadata": {},
   "outputs": [],
   "source": [
    "class vehicle:\n",
    "    \n",
    "    def __init__(self,name_of_vehicle,max_speed,average_of_vehicle):\n",
    "        self.name_of_vehicle=name_of_vehicle\n",
    "        self.max_speed=max_speed\n",
    "        self.average_of_vehicle=average_of_vehicle\n",
    "        \n",
    "        \n",
    "    def return_vehicle_details(self):\n",
    "        return self.name_of_vehicle,self.max_speed,self.average_of_vehicle\n",
    "    "
   ]
  },
  {
   "cell_type": "markdown",
   "id": "dc76732a-79b3-4e18-a755-7d5242f93436",
   "metadata": {},
   "source": [
    "ANSWER 2="
   ]
  },
  {
   "cell_type": "code",
   "execution_count": 13,
   "id": "bb5e8c46-54a8-4fe4-8637-7b274ba4d33a",
   "metadata": {},
   "outputs": [],
   "source": [
    "class child_car(vehicle):\n",
    "    pass"
   ]
  },
  {
   "cell_type": "code",
   "execution_count": 5,
   "id": "464addb8-6a00-4bdd-ae86-93b4214aea1b",
   "metadata": {},
   "outputs": [],
   "source": [
    "class vehicle:\n",
    "    \n",
    "    def __init__(self,name_of_vehicle,max_speed,average_of_vehicle):\n",
    "        self.name_of_vehicle=name_of_vehicle\n",
    "        self.max_speed=max_speed\n",
    "        self.average_of_vehicle=average_of_vehicle\n",
    "        \n",
    "        \n",
    "    def return_vehicle_details(self):\n",
    "        return self.name_of_vehicle,self.max_speed,self.average_of_vehicle\n",
    "    \n",
    "    \n",
    "    def seating_capacity(self,capacity):\n",
    "        self.capacity=capacity\n",
    "        return self.name_of_vehicle , self.capacity\n",
    "        "
   ]
  },
  {
   "cell_type": "code",
   "execution_count": 6,
   "id": "2fc566ff-667f-4a8f-8a2d-d9a41105d5ff",
   "metadata": {},
   "outputs": [],
   "source": [
    "car1=vehicle(\"toyota\",100,50)"
   ]
  },
  {
   "cell_type": "code",
   "execution_count": 8,
   "id": "ae6587e9-0bb5-40a6-b9be-74a55a11e415",
   "metadata": {},
   "outputs": [
    {
     "data": {
      "text/plain": [
       "50"
      ]
     },
     "execution_count": 8,
     "metadata": {},
     "output_type": "execute_result"
    }
   ],
   "source": [
    "car1.average_of_vehicle"
   ]
  },
  {
   "cell_type": "code",
   "execution_count": 12,
   "id": "326892b1-3446-461a-bd09-44c7096ffce4",
   "metadata": {},
   "outputs": [
    {
     "data": {
      "text/plain": [
       "('toyota', 50)"
      ]
     },
     "execution_count": 12,
     "metadata": {},
     "output_type": "execute_result"
    }
   ],
   "source": [
    "car1.seating_capacity(50)\n"
   ]
  },
  {
   "cell_type": "code",
   "execution_count": 15,
   "id": "85363b1d-037b-45ab-97bf-b0fdb937893a",
   "metadata": {},
   "outputs": [],
   "source": [
    "car2=child_car(\"toyota\",100,50)"
   ]
  },
  {
   "cell_type": "code",
   "execution_count": 17,
   "id": "2fb3b402-e15e-4399-8ff1-46bdd808fd0d",
   "metadata": {},
   "outputs": [
    {
     "data": {
      "text/plain": [
       "('toyota', 100, 50)"
      ]
     },
     "execution_count": 17,
     "metadata": {},
     "output_type": "execute_result"
    }
   ],
   "source": [
    "car2.return_vehicle_details()"
   ]
  },
  {
   "cell_type": "markdown",
   "id": "65ab89c3-ae46-4ea3-8a1b-6b3eb043668c",
   "metadata": {},
   "source": [
    "ANSWER 3:\n"
   ]
  },
  {
   "cell_type": "markdown",
   "id": "5485c125-de94-4b19-8381-b94ba1edefc1",
   "metadata": {},
   "source": [
    "Multiple inheritance is a feature of some object-oriented computer programming languages in which an object or class can inherit features from more than one parent object or parent class."
   ]
  },
  {
   "cell_type": "code",
   "execution_count": 18,
   "id": "a8441a2a-7277-4563-8a86-ded782ff23c2",
   "metadata": {},
   "outputs": [],
   "source": [
    "class class1:\n",
    "    \n",
    "    def test_class1(self):\n",
    "        return \"this is a class\""
   ]
  },
  {
   "cell_type": "code",
   "execution_count": 19,
   "id": "1a7d8be2-34f0-4394-a149-4bf33cfd1529",
   "metadata": {},
   "outputs": [],
   "source": [
    "class class2:\n",
    "    \n",
    "    def test_class2(self):\n",
    "        return \"thi is class2\""
   ]
  },
  {
   "cell_type": "code",
   "execution_count": 20,
   "id": "f312ee8e-4de4-4eb2-a73d-cf8aef839a58",
   "metadata": {},
   "outputs": [],
   "source": [
    "class class3(class1,class2):\n",
    "    pass"
   ]
  },
  {
   "cell_type": "code",
   "execution_count": 21,
   "id": "1a48f2ec-19d7-4243-917d-3f31a404003c",
   "metadata": {},
   "outputs": [],
   "source": [
    "obj_class3=class3()"
   ]
  },
  {
   "cell_type": "code",
   "execution_count": 23,
   "id": "c5b02faa-b200-4125-9105-039658ddb781",
   "metadata": {},
   "outputs": [
    {
     "data": {
      "text/plain": [
       "'this is a class'"
      ]
     },
     "execution_count": 23,
     "metadata": {},
     "output_type": "execute_result"
    }
   ],
   "source": [
    "obj_class3.test_class1()"
   ]
  },
  {
   "cell_type": "code",
   "execution_count": 24,
   "id": "9c67d2dd-6526-4f06-be4a-f284ecd0f976",
   "metadata": {},
   "outputs": [
    {
     "data": {
      "text/plain": [
       "'thi is class2'"
      ]
     },
     "execution_count": 24,
     "metadata": {},
     "output_type": "execute_result"
    }
   ],
   "source": [
    "obj_class3.test_class2()"
   ]
  },
  {
   "cell_type": "markdown",
   "id": "15fff256-4f9a-4f39-a9ae-05800b7144bc",
   "metadata": {},
   "source": [
    "ANSWER 4:\n",
    "    "
   ]
  },
  {
   "cell_type": "markdown",
   "id": "886a7245-538c-4dc6-b786-d80dc82f2bd0",
   "metadata": {},
   "source": [
    "Basically, the main purpose of using getters and setters in object-oriented programs is to ensure data encapsulation. Private variables in python are not actually hidden fields like in other object oriented languages."
   ]
  },
  {
   "cell_type": "code",
   "execution_count": 30,
   "id": "ae5986b3-841d-4d23-8ec5-7b6b29d3931a",
   "metadata": {},
   "outputs": [],
   "source": [
    "class student:\n",
    "    \n",
    "    def setname(self,n):\n",
    "        self.__name=n\n",
    "        \n",
    "    def getname(self):\n",
    "        return self.__name\n",
    "    \n",
    "    def setmarks(self,marks):\n",
    "        self.__marks=marks\n",
    "        \n",
    "        \n",
    "    def getmarks(self):\n",
    "        return self.__marks\n",
    "    \n",
    "    def display(self):\n",
    "        print(\"name\",self.__name)\n",
    "        print(\"marks\",self.__marks)\n",
    "    \n",
    "    \n",
    "        \n",
    "        \n",
    "        "
   ]
  },
  {
   "cell_type": "code",
   "execution_count": 36,
   "id": "0f0a6212-0cde-4ad4-9671-6d57863b1177",
   "metadata": {},
   "outputs": [
    {
     "ename": "TypeError",
     "evalue": "student() takes no arguments",
     "output_type": "error",
     "traceback": [
      "\u001b[0;31m---------------------------------------------------------------------------\u001b[0m",
      "\u001b[0;31mTypeError\u001b[0m                                 Traceback (most recent call last)",
      "Cell \u001b[0;32mIn[36], line 1\u001b[0m\n\u001b[0;32m----> 1\u001b[0m student_1\u001b[38;5;241m=\u001b[39m\u001b[43mstudent\u001b[49m\u001b[43m(\u001b[49m\u001b[38;5;124;43m\"\u001b[39;49m\u001b[38;5;124;43mraj\u001b[39;49m\u001b[38;5;124;43m\"\u001b[39;49m\u001b[43m,\u001b[49m\u001b[38;5;241;43m58\u001b[39;49m\u001b[43m)\u001b[49m\n",
      "\u001b[0;31mTypeError\u001b[0m: student() takes no arguments"
     ]
    }
   ],
   "source": [
    "student_1=student"
   ]
  },
  {
   "cell_type": "code",
   "execution_count": 33,
   "id": "e0bd2314-5e29-473b-aa05-3a6a697dcb43",
   "metadata": {},
   "outputs": [
    {
     "data": {
      "text/plain": [
       "<bound method student.display of <__main__.student object at 0x7f3934256bf0>>"
      ]
     },
     "execution_count": 33,
     "metadata": {},
     "output_type": "execute_result"
    }
   ],
   "source": []
  },
  {
   "cell_type": "markdown",
   "id": "635c294c-aa33-46ba-a2ba-b2508fc55f6b",
   "metadata": {},
   "source": [
    "ANSWER 5:\n",
    "    Method overriding is an ability of any object-oriented programming language that allows a subclass or child class to provide a specific implementation of a method that is already provided by one of its super-classes or parent classes. When a method in a subclass has the same name, same parameters or signature and same return type(or sub-type) as a method in its super-class, then the method in the subclass is said to override the method in the super-class."
   ]
  },
  {
   "cell_type": "code",
   "execution_count": 43,
   "id": "7fcc77e0-de15-451c-9601-44c18115a602",
   "metadata": {},
   "outputs": [],
   "source": [
    "class shape:\n",
    "    \n",
    "    def __init__(self,x,y):\n",
    "        self.x=x\n",
    "        self.y=y\n",
    "        \n",
    "        \n",
    "    def area(self):\n",
    "        return self.x* self.y"
   ]
  },
  {
   "cell_type": "code",
   "execution_count": 47,
   "id": "deed19d4-3a06-43fa-86da-69669f5d4520",
   "metadata": {},
   "outputs": [],
   "source": [
    "rec=shape(2,5)"
   ]
  },
  {
   "cell_type": "code",
   "execution_count": 45,
   "id": "8aa1de18-a080-4bd0-bdee-5f6035aea777",
   "metadata": {},
   "outputs": [
    {
     "data": {
      "text/plain": [
       "15"
      ]
     },
     "execution_count": 45,
     "metadata": {},
     "output_type": "execute_result"
    }
   ],
   "source": [
    "rec.area()"
   ]
  },
  {
   "cell_type": "code",
   "execution_count": null,
   "id": "c32a66a1-03ed-4bd9-bd2b-304eb78372df",
   "metadata": {},
   "outputs": [],
   "source": [
    "class triangle(shape):\n",
    "    \n",
    "    def area(self\n",
    "    \n",
    "    "
   ]
  }
 ],
 "metadata": {
  "kernelspec": {
   "display_name": "Python 3 (ipykernel)",
   "language": "python",
   "name": "python3"
  },
  "language_info": {
   "codemirror_mode": {
    "name": "ipython",
    "version": 3
   },
   "file_extension": ".py",
   "mimetype": "text/x-python",
   "name": "python",
   "nbconvert_exporter": "python",
   "pygments_lexer": "ipython3",
   "version": "3.10.8"
  }
 },
 "nbformat": 4,
 "nbformat_minor": 5
}
